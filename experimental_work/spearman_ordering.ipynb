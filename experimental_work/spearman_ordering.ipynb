{
 "cells": [
  {
   "cell_type": "code",
   "execution_count": 27,
   "id": "confidential-universal",
   "metadata": {},
   "outputs": [],
   "source": [
    "import os\n",
    "import numpy as np"
   ]
  },
  {
   "cell_type": "code",
   "execution_count": 28,
   "id": "medical-acquisition",
   "metadata": {},
   "outputs": [
    {
     "name": "stdout",
     "output_type": "stream",
     "text": [
      "ls: cannot access ../experiments/coco/moco_resnet50/2022-01-20 13:33:07/metric_data/: No such file or directory\r\n"
     ]
    }
   ],
   "source": [
    "!ls ../experiments/coco/moco_resnet50/2022-01-20\\ 13\\:33\\:07/metric_data/"
   ]
  },
  {
   "cell_type": "code",
   "execution_count": 75,
   "id": "traditional-organizer",
   "metadata": {},
   "outputs": [
    {
     "name": "stdout",
     "output_type": "stream",
     "text": [
      "['simclr_resnet50', 'clip', 'resnet50', '.ipynb_checkpoints', 'resnet18', 'moco_resnet50', 'bit_resnet50']\n"
     ]
    }
   ],
   "source": [
    "dataset = 'coco'\n",
    "\n",
    "models = os.listdir('../experiments/'+dataset)\n",
    "\n",
    "spearman_comp = []\n",
    "spearman_indiv = []\n",
    "spearman_object = []\n",
    "spearman_pairs = []\n",
    "print(models)\n",
    "\n",
    "models = ['resnet50', 'resnet18', 'moco_resnet50', 'bit_resnet50', 'simclr_resnet50']\n",
    "    "
   ]
  },
  {
   "cell_type": "code",
   "execution_count": 76,
   "id": "going-bench",
   "metadata": {},
   "outputs": [],
   "source": [
    "for i in models:\n",
    "    trial = 'None'\n",
    "    if i == 'resnet50':\n",
    "        trial = '2022-01-21 18:40:25'\n",
    "    else:\n",
    "        temp = os.listdir('../experiments/'+dataset+'/'+i)\n",
    "        for trial_name in temp:\n",
    "            try:\n",
    "                time.strptime(trial_name, \"%Y-%m-%d %H:%M:%S\")\n",
    "                trial = trial_name\n",
    "            except:\n",
    "                continue\n",
    "    spearman_comp.append(np.load('../experiments/'+dataset+'/'+i+'/'+trial+'/metric_data/spearman_comps.npy', allow_pickle=True).item())\n",
    "    spearman_indiv.append(np.load('../experiments/'+dataset+'/'+i+'/'+trial+'/metric_data/spearman_indiv.npy', allow_pickle=True).item())\n",
    "    spearman_object.append(np.load('../experiments/'+dataset+'/'+i+'/'+trial+'/metric_data/spearman_object.npy', allow_pickle=True).item())\n",
    "    spearman_pairs.append(np.load('../experiments/'+dataset+'/'+i+'/'+trial+'/metric_data/spearman_pairs.npy', allow_pickle=True).item())\n",
    "\n",
    "    "
   ]
  },
  {
   "cell_type": "code",
   "execution_count": 77,
   "id": "ranging-teens",
   "metadata": {},
   "outputs": [],
   "source": [
    "all_models_comp = dict()\n",
    "all_models_indiv = dict()\n",
    "all_models_object = dict()\n",
    "all_models_pairs = dict()\n",
    "\n",
    "for ind, i in enumerate(spearman_comp):\n",
    "    for j in i:\n",
    "        all_models_comp[j] = spearman_comp[ind][j][0]\n",
    "\n",
    "for ind, i in enumerate(spearman_indiv):\n",
    "    for j in i:\n",
    "        all_models_indiv[j] = spearman_indiv[ind][j][0]\n",
    "    \n",
    "for ind, i in enumerate(spearman_object):\n",
    "    for j in i:\n",
    "        all_models_object[j] = spearman_object[ind][j][0]\n",
    "\n",
    "for ind, i in enumerate(spearman_pairs):\n",
    "    for j in i:\n",
    "        all_models_pairs[j] = spearman_pairs[ind][j][0]\n",
    "    \n",
    "    "
   ]
  },
  {
   "cell_type": "code",
   "execution_count": 78,
   "id": "outstanding-converter",
   "metadata": {},
   "outputs": [],
   "source": [
    "comps = {k: v for k, v in sorted(all_models_comp.items(), key=lambda item: item[1])}\n",
    "indiv = {k: v for k, v in sorted(all_models_indiv.items(), key=lambda item: item[1])}\n",
    "pairs = {k: v for k, v in sorted(all_models_pairs.items(), key=lambda item: item[1])}\n"
   ]
  },
  {
   "cell_type": "code",
   "execution_count": 79,
   "id": "persistent-wrapping",
   "metadata": {},
   "outputs": [
    {
     "data": {
      "text/plain": [
       "{'resnet50': 0.28484848484848485,\n",
       " 'moco_resnet50': 0.43030303030303024,\n",
       " 'resnet18': 0.7212121212121211,\n",
       " 'bit_resnet50': 0.8787878787878788,\n",
       " 'simclr_resnet50': 0.8787878787878788}"
      ]
     },
     "execution_count": 79,
     "metadata": {},
     "output_type": "execute_result"
    }
   ],
   "source": [
    "comps"
   ]
  },
  {
   "cell_type": "code",
   "execution_count": 80,
   "id": "painted-estonia",
   "metadata": {},
   "outputs": [
    {
     "data": {
      "text/plain": [
       "{'resnet50': 0.6785714285714287,\n",
       " 'moco_resnet50': 0.7142857142857144,\n",
       " 'resnet18': 0.8571428571428573,\n",
       " 'bit_resnet50': 0.8571428571428573,\n",
       " 'simclr_resnet50': 0.8928571428571429}"
      ]
     },
     "execution_count": 80,
     "metadata": {},
     "output_type": "execute_result"
    }
   ],
   "source": [
    "indiv"
   ]
  },
  {
   "cell_type": "code",
   "execution_count": 81,
   "id": "juvenile-nothing",
   "metadata": {},
   "outputs": [
    {
     "data": {
      "text/plain": [
       "{'moco_resnet50': 0.03571428571428572,\n",
       " 'resnet50': 0.21428571428571433,\n",
       " 'resnet18': 0.642857142857143,\n",
       " 'simclr_resnet50': 0.8571428571428573,\n",
       " 'bit_resnet50': 0.8928571428571429}"
      ]
     },
     "execution_count": 81,
     "metadata": {},
     "output_type": "execute_result"
    }
   ],
   "source": [
    "pairs"
   ]
  },
  {
   "cell_type": "code",
   "execution_count": 67,
   "id": "obvious-cabinet",
   "metadata": {},
   "outputs": [
    {
     "name": "stdout",
     "output_type": "stream",
     "text": [
      "ca_ft.npy  man_ft.npy\t  rm_ft.npy  sm_ft.npy\t  woman_ft.npy\r\n",
      "cm_ft.npy  ra_ft.npy\t  rw_ft.npy  stop_ft.npy\r\n",
      "cw_ft.npy  random_ft.npy  sa_ft.npy  sw_ft.npy\r\n"
     ]
    }
   ],
   "source": [
    "!ls ../experiments/coco/simclr_resnet50/2022-01-24\\ 16\\:29\\:29/finetuned_features/no_pca"
   ]
  },
  {
   "cell_type": "code",
   "execution_count": 70,
   "id": "japanese-purse",
   "metadata": {},
   "outputs": [
    {
     "name": "stdout",
     "output_type": "stream",
     "text": [
      "2022-01-19 16:43:15  2022-01-20 12:16:50  2022-01-21 18:40:25\r\n",
      "2022-01-19 16:48:07  2022-01-20 13:52:34  orig\r\n"
     ]
    }
   ],
   "source": [
    "!ls ../experiments/coco/resnet50/2022-01-19 16:43:15"
   ]
  },
  {
   "cell_type": "code",
   "execution_count": 73,
   "id": "automotive-impossible",
   "metadata": {},
   "outputs": [],
   "source": [
    "x = np.load('../experiments/coco/simclr_resnet50/2022-01-24 16:29:29/pretrained_features/no_pca/ca_pt.npy')"
   ]
  },
  {
   "cell_type": "code",
   "execution_count": 74,
   "id": "micro-uncertainty",
   "metadata": {},
   "outputs": [
    {
     "data": {
      "text/plain": [
       "(12, 3, 224, 224)"
      ]
     },
     "execution_count": 74,
     "metadata": {},
     "output_type": "execute_result"
    }
   ],
   "source": [
    "x.shape"
   ]
  },
  {
   "cell_type": "code",
   "execution_count": 71,
   "id": "animal-television",
   "metadata": {},
   "outputs": [],
   "source": [
    "x = np.load('../experiments/coco/resnet50/2022-01-19 16:43:15/finetuned_features/no_pca/ca_ft.npy')"
   ]
  },
  {
   "cell_type": "code",
   "execution_count": 72,
   "id": "completed-obligation",
   "metadata": {},
   "outputs": [
    {
     "data": {
      "text/plain": [
       "(12, 2048)"
      ]
     },
     "execution_count": 72,
     "metadata": {},
     "output_type": "execute_result"
    }
   ],
   "source": [
    "x.shape"
   ]
  },
  {
   "cell_type": "code",
   "execution_count": null,
   "id": "coupled-tomorrow",
   "metadata": {},
   "outputs": [],
   "source": []
  }
 ],
 "metadata": {
  "kernelspec": {
   "display_name": "Python 3",
   "language": "python",
   "name": "python3"
  },
  "language_info": {
   "codemirror_mode": {
    "name": "ipython",
    "version": 3
   },
   "file_extension": ".py",
   "mimetype": "text/x-python",
   "name": "python",
   "nbconvert_exporter": "python",
   "pygments_lexer": "ipython3",
   "version": "3.6.12"
  }
 },
 "nbformat": 4,
 "nbformat_minor": 5
}
