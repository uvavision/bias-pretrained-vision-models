{
 "cells": [
  {
   "cell_type": "code",
   "execution_count": 1,
   "id": "strategic-necessity",
   "metadata": {},
   "outputs": [
    {
     "name": "stdout",
     "output_type": "stream",
     "text": [
      "\u001b[33mWARNING: Ignoring invalid distribution -orch (/u/lab/jr4fs/anaconda2/envs/coco_exp/lib/python3.6/site-packages)\u001b[0m\n",
      "\u001b[33mWARNING: Ignoring invalid distribution -orch (/u/lab/jr4fs/anaconda2/envs/coco_exp/lib/python3.6/site-packages)\u001b[0m\n",
      "Collecting tf2onnx\n",
      "  Downloading tf2onnx-1.9.3-py3-none-any.whl (435 kB)\n",
      "\u001b[K     |████████████████████████████████| 435 kB 15.0 MB/s eta 0:00:01\n",
      "\u001b[?25hRequirement already satisfied: numpy>=1.14.1 in /u/lab/jr4fs/anaconda2/envs/coco_exp/lib/python3.6/site-packages (from tf2onnx) (1.19.5)\n",
      "Requirement already satisfied: requests in /u/lab/jr4fs/anaconda2/envs/coco_exp/lib/python3.6/site-packages (from tf2onnx) (2.26.0)\n",
      "Collecting onnx>=1.4.1\n",
      "  Downloading onnx-1.10.2-cp36-cp36m-manylinux_2_12_x86_64.manylinux2010_x86_64.whl (12.7 MB)\n",
      "\u001b[K     |████████████████████████████████| 12.7 MB 58.6 MB/s eta 0:00:01    |████▊                           | 1.9 MB 58.6 MB/s eta 0:00:01     |████████████████▋               | 6.6 MB 58.6 MB/s eta 0:00:01     |████████████████████████████    | 11.2 MB 58.6 MB/s eta 0:00:01\n",
      "\u001b[?25hCollecting flatbuffers~=1.12\n",
      "  Downloading flatbuffers-1.12-py2.py3-none-any.whl (15 kB)\n",
      "Requirement already satisfied: six in /u/lab/jr4fs/anaconda2/envs/coco_exp/lib/python3.6/site-packages (from tf2onnx) (1.16.0)\n",
      "Requirement already satisfied: typing-extensions>=3.6.2.1 in /u/lab/jr4fs/anaconda2/envs/coco_exp/lib/python3.6/site-packages (from onnx>=1.4.1->tf2onnx) (3.10.0.2)\n",
      "Requirement already satisfied: protobuf in /u/lab/jr4fs/anaconda2/envs/coco_exp/lib/python3.6/site-packages (from onnx>=1.4.1->tf2onnx) (3.15.8)\n",
      "Requirement already satisfied: idna<4,>=2.5 in /u/lab/jr4fs/anaconda2/envs/coco_exp/lib/python3.6/site-packages (from requests->tf2onnx) (3.2)\n",
      "Requirement already satisfied: urllib3<1.27,>=1.21.1 in /u/lab/jr4fs/anaconda2/envs/coco_exp/lib/python3.6/site-packages (from requests->tf2onnx) (1.26.7)\n",
      "Requirement already satisfied: charset-normalizer~=2.0.0 in /u/lab/jr4fs/anaconda2/envs/coco_exp/lib/python3.6/site-packages (from requests->tf2onnx) (2.0.6)\n",
      "Requirement already satisfied: certifi>=2017.4.17 in /u/lab/jr4fs/anaconda2/envs/coco_exp/lib/python3.6/site-packages (from requests->tf2onnx) (2021.5.30)\n",
      "\u001b[33mWARNING: Ignoring invalid distribution -orch (/u/lab/jr4fs/anaconda2/envs/coco_exp/lib/python3.6/site-packages)\u001b[0m\n",
      "Installing collected packages: onnx, flatbuffers, tf2onnx\n",
      "\u001b[33mWARNING: Ignoring invalid distribution -orch (/u/lab/jr4fs/anaconda2/envs/coco_exp/lib/python3.6/site-packages)\u001b[0m\n",
      "\u001b[33mWARNING: Ignoring invalid distribution -orch (/u/lab/jr4fs/anaconda2/envs/coco_exp/lib/python3.6/site-packages)\u001b[0m\n",
      "\u001b[33mWARNING: Ignoring invalid distribution -orch (/u/lab/jr4fs/anaconda2/envs/coco_exp/lib/python3.6/site-packages)\u001b[0m\n",
      "Successfully installed flatbuffers-1.12 onnx-1.10.2 tf2onnx-1.9.3\n",
      "\u001b[33mWARNING: Ignoring invalid distribution -orch (/u/lab/jr4fs/anaconda2/envs/coco_exp/lib/python3.6/site-packages)\u001b[0m\n",
      "\u001b[33mWARNING: Ignoring invalid distribution -orch (/u/lab/jr4fs/anaconda2/envs/coco_exp/lib/python3.6/site-packages)\u001b[0m\n",
      "\u001b[33mWARNING: Ignoring invalid distribution -orch (/u/lab/jr4fs/anaconda2/envs/coco_exp/lib/python3.6/site-packages)\u001b[0m\n",
      "\u001b[33mWARNING: You are using pip version 21.2.4; however, version 21.3.1 is available.\n",
      "You should consider upgrading via the '/u/lab/jr4fs/anaconda2/envs/coco_exp/bin/python -m pip install --upgrade pip' command.\u001b[0m\n"
     ]
    }
   ],
   "source": [
    "!pip install tf2onnx"
   ]
  },
  {
   "cell_type": "code",
   "execution_count": 3,
   "id": "intellectual-found",
   "metadata": {},
   "outputs": [
    {
     "name": "stdout",
     "output_type": "stream",
     "text": [
      "saved_model.pb\ttfhub_module.pb  variables\r\n"
     ]
    }
   ],
   "source": [
    "!ls ../models_def/ResNet50_1x/hub/"
   ]
  },
  {
   "cell_type": "code",
   "execution_count": 5,
   "id": "second-neighborhood",
   "metadata": {},
   "outputs": [
    {
     "name": "stdout",
     "output_type": "stream",
     "text": [
      "/u/lab/jr4fs/anaconda2/envs/coco_exp/lib/python3.6/site-packages/tensorflow/python/framework/dtypes.py:526: FutureWarning: Passing (type, 1) or '1type' as a synonym of type is deprecated; in a future version of numpy, it will be understood as (type, (1,)) / '(1,)type'.\n",
      "  _np_qint8 = np.dtype([(\"qint8\", np.int8, 1)])\n",
      "/u/lab/jr4fs/anaconda2/envs/coco_exp/lib/python3.6/site-packages/tensorflow/python/framework/dtypes.py:527: FutureWarning: Passing (type, 1) or '1type' as a synonym of type is deprecated; in a future version of numpy, it will be understood as (type, (1,)) / '(1,)type'.\n",
      "  _np_quint8 = np.dtype([(\"quint8\", np.uint8, 1)])\n",
      "/u/lab/jr4fs/anaconda2/envs/coco_exp/lib/python3.6/site-packages/tensorflow/python/framework/dtypes.py:528: FutureWarning: Passing (type, 1) or '1type' as a synonym of type is deprecated; in a future version of numpy, it will be understood as (type, (1,)) / '(1,)type'.\n",
      "  _np_qint16 = np.dtype([(\"qint16\", np.int16, 1)])\n",
      "/u/lab/jr4fs/anaconda2/envs/coco_exp/lib/python3.6/site-packages/tensorflow/python/framework/dtypes.py:529: FutureWarning: Passing (type, 1) or '1type' as a synonym of type is deprecated; in a future version of numpy, it will be understood as (type, (1,)) / '(1,)type'.\n",
      "  _np_quint16 = np.dtype([(\"quint16\", np.uint16, 1)])\n",
      "/u/lab/jr4fs/anaconda2/envs/coco_exp/lib/python3.6/site-packages/tensorflow/python/framework/dtypes.py:530: FutureWarning: Passing (type, 1) or '1type' as a synonym of type is deprecated; in a future version of numpy, it will be understood as (type, (1,)) / '(1,)type'.\n",
      "  _np_qint32 = np.dtype([(\"qint32\", np.int32, 1)])\n",
      "/u/lab/jr4fs/anaconda2/envs/coco_exp/lib/python3.6/site-packages/tensorflow/python/framework/dtypes.py:535: FutureWarning: Passing (type, 1) or '1type' as a synonym of type is deprecated; in a future version of numpy, it will be understood as (type, (1,)) / '(1,)type'.\n",
      "  np_resource = np.dtype([(\"resource\", np.ubyte, 1)])\n",
      "/u/lab/jr4fs/anaconda2/envs/coco_exp/lib/python3.6/runpy.py:125: RuntimeWarning: 'tf2onnx.convert' found in sys.modules after import of package 'tf2onnx', but prior to execution of 'tf2onnx.convert'; this may result in unpredictable behaviour\n",
      "  warn(RuntimeWarning(msg))\n",
      "2021-12-20 17:48:52,035 - WARNING - '--tag' not specified for saved_model. Using --tag serve\n",
      "2021-12-20 17:48:52,035 - WARNING - '--signature_def' not provided. Using all signatures.\n",
      "Traceback (most recent call last):\n",
      "  File \"/u/lab/jr4fs/anaconda2/envs/coco_exp/lib/python3.6/runpy.py\", line 193, in _run_module_as_main\n",
      "    \"__main__\", mod_spec)\n",
      "  File \"/u/lab/jr4fs/anaconda2/envs/coco_exp/lib/python3.6/runpy.py\", line 85, in _run_code\n",
      "    exec(code, run_globals)\n",
      "  File \"/u/lab/jr4fs/anaconda2/envs/coco_exp/lib/python3.6/site-packages/tf2onnx/convert.py\", line 633, in <module>\n",
      "    main()\n",
      "  File \"/u/lab/jr4fs/anaconda2/envs/coco_exp/lib/python3.6/site-packages/tf2onnx/convert.py\", line 236, in main\n",
      "    use_graph_names=args.use_graph_names)\n",
      "  File \"/u/lab/jr4fs/anaconda2/envs/coco_exp/lib/python3.6/site-packages/tf2onnx/tf_loader.py\", line 626, in from_saved_model\n",
      "    _from_saved_model_v1(sess, model_path, input_names, output_names, tag, signatures, use_graph_names)\n",
      "  File \"/u/lab/jr4fs/anaconda2/envs/coco_exp/lib/python3.6/site-packages/tf2onnx/tf_loader.py\", line 414, in _from_saved_model_v1\n",
      "    imported = tf.saved_model.loader.load(sess, tag, model_path)\n",
      "  File \"/u/lab/jr4fs/anaconda2/envs/coco_exp/lib/python3.6/site-packages/tensorflow/python/util/deprecation.py\", line 324, in new_func\n",
      "    return func(*args, **kwargs)\n",
      "  File \"/u/lab/jr4fs/anaconda2/envs/coco_exp/lib/python3.6/site-packages/tensorflow/python/saved_model/loader_impl.py\", line 269, in load\n",
      "    return loader.load(sess, tags, import_scope, **saver_kwargs)\n",
      "  File \"/u/lab/jr4fs/anaconda2/envs/coco_exp/lib/python3.6/site-packages/tensorflow/python/saved_model/loader_impl.py\", line 420, in load\n",
      "    **saver_kwargs)\n",
      "  File \"/u/lab/jr4fs/anaconda2/envs/coco_exp/lib/python3.6/site-packages/tensorflow/python/saved_model/loader_impl.py\", line 347, in load_graph\n",
      "    meta_graph_def = self.get_meta_graph_def_from_tags(tags)\n",
      "  File \"/u/lab/jr4fs/anaconda2/envs/coco_exp/lib/python3.6/site-packages/tensorflow/python/saved_model/loader_impl.py\", line 323, in get_meta_graph_def_from_tags\n",
      "    \" could not be found in SavedModel. To inspect available tag-sets in\"\n",
      "RuntimeError: MetaGraphDef associated with tags 'serve' could not be found in SavedModel. To inspect available tag-sets in the SavedModel, please use the SavedModel CLI: `saved_model_cli`\n"
     ]
    }
   ],
   "source": [
    "!python -m tf2onnx.convert --saved-model ../models_def/ResNet50_1x/hub/ --output simclr_test.onnx\n",
    "\n"
   ]
  },
  {
   "cell_type": "code",
   "execution_count": null,
   "id": "searching-amateur",
   "metadata": {},
   "outputs": [],
   "source": [
    "python -m tf2onnx.convert --checkpoint tensorflow-model-meta-file-path --output model.onnx --inputs input0:0,input1:0 --outputs output0:0\n",
    "            \n",
    "            \n",
    "            "
   ]
  },
  {
   "cell_type": "code",
   "execution_count": 6,
   "id": "australian-knowing",
   "metadata": {},
   "outputs": [
    {
     "name": "stdout",
     "output_type": "stream",
     "text": [
      "Cloning into 'simclr-converter'...\n",
      "remote: Enumerating objects: 12, done.\u001b[K\n",
      "remote: Counting objects: 100% (12/12), done.\u001b[K\n",
      "remote: Compressing objects: 100% (12/12), done.\u001b[K\n",
      "remote: Total 12 (delta 2), reused 5 (delta 0), pack-reused 0\u001b[K\n",
      "Unpacking objects: 100% (12/12), done.\n"
     ]
    }
   ],
   "source": [
    "!git clone https://github.com/tonylins/simclr-converter.git"
   ]
  },
  {
   "cell_type": "code",
   "execution_count": 7,
   "id": "bound-clark",
   "metadata": {},
   "outputs": [
    {
     "name": "stdout",
     "output_type": "stream",
     "text": [
      "coco_times.txt\t\t\t       simclr-converter\r\n",
      "dataset_sensitivity exploration.ipynb  simCLR debugging.ipynb\r\n",
      "interm_preds_visualization.ipynb       SimCLRv2-Pytorch\r\n",
      "mahalanobis_analysis.ipynb\t       test.ipynb\r\n",
      "openimages_times.txt\t\t       tf2onnx simclr.ipynb\r\n",
      "resize_oi.py\t\t\t       visualize_analysis_sets.ipynb\r\n",
      "resize_test.ipynb\r\n"
     ]
    }
   ],
   "source": [
    "!ls"
   ]
  },
  {
   "cell_type": "code",
   "execution_count": 8,
   "id": "abroad-married",
   "metadata": {},
   "outputs": [
    {
     "name": "stdout",
     "output_type": "stream",
     "text": [
      "/u/lab/jr4fs/bias-analysis-in-CNNs/experimental_work/simclr-converter\n"
     ]
    }
   ],
   "source": [
    "%cd simclr-converter/"
   ]
  },
  {
   "cell_type": "code",
   "execution_count": 22,
   "id": "exciting-shark",
   "metadata": {},
   "outputs": [
    {
     "data": {
      "text/plain": [
       "'ResNet50_1x.zip'"
      ]
     },
     "execution_count": 22,
     "metadata": {},
     "output_type": "execute_result"
    }
   ],
   "source": [
    "import wget\n",
    "url='https://storage.cloud.google.com/simclr-gcs/checkpoints/ResNet50_1x.zip'\n",
    "wget.download(url)"
   ]
  },
  {
   "cell_type": "code",
   "execution_count": 33,
   "id": "hourly-better",
   "metadata": {},
   "outputs": [
    {
     "name": "stdout",
     "output_type": "stream",
     "text": [
      "test  train  val  wnids.txt  words.txt\r\n"
     ]
    }
   ],
   "source": [
    "!ls tiny-imagenet-200/"
   ]
  },
  {
   "cell_type": "code",
   "execution_count": 21,
   "id": "prescribed-hungary",
   "metadata": {},
   "outputs": [
    {
     "name": "stdout",
     "output_type": "stream",
     "text": [
      "--2021-12-20 18:02:56--  https://storage.cloud.google.com/simclr-gcs/checkpoints/ResNet50_1x.zip\n",
      "Resolving storage.cloud.google.com... 142.250.188.206, 2607:f8b0:4004:836::200e\n",
      "Connecting to storage.cloud.google.com|142.250.188.206|:443... connected.\n",
      "HTTP request sent, awaiting response... 302 Found\n",
      "Location: https://accounts.google.com/ServiceLogin?service=cds&passive=1209600&continue=https://storage.cloud.google.com/simclr-gcs/checkpoints/ResNet50_1x.zip&followup=https://storage.cloud.google.com/simclr-gcs/checkpoints/ResNet50_1x.zip [following]\n",
      "--2021-12-20 18:02:57--  https://accounts.google.com/ServiceLogin?service=cds&passive=1209600&continue=https://storage.cloud.google.com/simclr-gcs/checkpoints/ResNet50_1x.zip&followup=https://storage.cloud.google.com/simclr-gcs/checkpoints/ResNet50_1x.zip\n",
      "Resolving accounts.google.com... 172.217.1.205, 2607:f8b0:4004:801::200d\n",
      "Connecting to accounts.google.com|172.217.1.205|:443... connected.\n",
      "HTTP request sent, awaiting response... 200 OK\n",
      "Length: unspecified [text/html]\n",
      "Saving to: ‘ResNet50_1x.zip.1’\n",
      "\n",
      "ResNet50_1x.zip.1       [ <=>                ]  89.06K  --.-KB/s    in 0.02s   \n",
      "\n",
      "2021-12-20 18:02:57 (4.20 MB/s) - ‘ResNet50_1x.zip.1’ saved [91196]\n",
      "\n"
     ]
    }
   ],
   "source": [
    "!wget https://storage.cloud.google.com/simclr-gcs/checkpoints/ResNet50_1x.zip"
   ]
  },
  {
   "cell_type": "code",
   "execution_count": 30,
   "id": "traditional-ghana",
   "metadata": {},
   "outputs": [
    {
     "name": "stdout",
     "output_type": "stream",
     "text": [
      "/u/lab/jr4fs/anaconda2/envs/coco_exp/lib/python3.6/site-packages/tensorflow/python/framework/dtypes.py:526: FutureWarning: Passing (type, 1) or '1type' as a synonym of type is deprecated; in a future version of numpy, it will be understood as (type, (1,)) / '(1,)type'.\r\n",
      "  _np_qint8 = np.dtype([(\"qint8\", np.int8, 1)])\r\n",
      "/u/lab/jr4fs/anaconda2/envs/coco_exp/lib/python3.6/site-packages/tensorflow/python/framework/dtypes.py:527: FutureWarning: Passing (type, 1) or '1type' as a synonym of type is deprecated; in a future version of numpy, it will be understood as (type, (1,)) / '(1,)type'.\r\n",
      "  _np_quint8 = np.dtype([(\"quint8\", np.uint8, 1)])\r\n",
      "/u/lab/jr4fs/anaconda2/envs/coco_exp/lib/python3.6/site-packages/tensorflow/python/framework/dtypes.py:528: FutureWarning: Passing (type, 1) or '1type' as a synonym of type is deprecated; in a future version of numpy, it will be understood as (type, (1,)) / '(1,)type'.\r\n",
      "  _np_qint16 = np.dtype([(\"qint16\", np.int16, 1)])\r\n",
      "/u/lab/jr4fs/anaconda2/envs/coco_exp/lib/python3.6/site-packages/tensorflow/python/framework/dtypes.py:529: FutureWarning: Passing (type, 1) or '1type' as a synonym of type is deprecated; in a future version of numpy, it will be understood as (type, (1,)) / '(1,)type'.\r\n",
      "  _np_quint16 = np.dtype([(\"quint16\", np.uint16, 1)])\r\n",
      "/u/lab/jr4fs/anaconda2/envs/coco_exp/lib/python3.6/site-packages/tensorflow/python/framework/dtypes.py:530: FutureWarning: Passing (type, 1) or '1type' as a synonym of type is deprecated; in a future version of numpy, it will be understood as (type, (1,)) / '(1,)type'.\r\n",
      "  _np_qint32 = np.dtype([(\"qint32\", np.int32, 1)])\r\n",
      "/u/lab/jr4fs/anaconda2/envs/coco_exp/lib/python3.6/site-packages/tensorflow/python/framework/dtypes.py:535: FutureWarning: Passing (type, 1) or '1type' as a synonym of type is deprecated; in a future version of numpy, it will be understood as (type, (1,)) / '(1,)type'.\r\n",
      "  np_resource = np.dtype([(\"resource\", np.ubyte, 1)])\r\n"
     ]
    }
   ],
   "source": [
    "!python convert.py ../../models_def/ResNet50_1x/model.ckpt-225206 resnet50-1x.pth"
   ]
  },
  {
   "cell_type": "code",
   "execution_count": 49,
   "id": "satellite-press",
   "metadata": {},
   "outputs": [
    {
     "name": "stdout",
     "output_type": "stream",
     "text": [
      "LEN:  40\n",
      "batch  Time  0.000 ( 0.000)\n",
      "LOSS:  Loss 0.0000e+00 (0.0000e+00)\n",
      "Test: [ 0/40]\tTime  7.502 ( 7.502)\tLoss 1.1166e+01 (1.1166e+01)\tAcc@1   0.00 (  0.00)\tAcc@5   0.00 (  0.00)\n",
      "Test: [10/40]\tTime  1.025 ( 1.433)\tLoss 1.1046e+01 (1.0994e+01)\tAcc@1   0.00 (  0.00)\tAcc@5   0.78 (  0.36)\n",
      "Test: [20/40]\tTime  0.493 ( 1.071)\tLoss 1.0723e+01 (1.0961e+01)\tAcc@1   0.00 (  0.00)\tAcc@5   0.00 (  0.26)\n",
      "Test: [30/40]\tTime  0.515 ( 0.914)\tLoss 1.0568e+01 (1.0904e+01)\tAcc@1   0.00 (  0.00)\tAcc@5   0.39 (  0.25)\n",
      " * Acc@1 0.010 Acc@5 0.290\n"
     ]
    }
   ],
   "source": [
    "!python eval.py tiny-imagenet-200 -a resnet50-1x\n"
   ]
  },
  {
   "cell_type": "code",
   "execution_count": null,
   "id": "numerical-above",
   "metadata": {},
   "outputs": [],
   "source": []
  }
 ],
 "metadata": {
  "kernelspec": {
   "display_name": "Python 3",
   "language": "python",
   "name": "python3"
  },
  "language_info": {
   "codemirror_mode": {
    "name": "ipython",
    "version": 3
   },
   "file_extension": ".py",
   "mimetype": "text/x-python",
   "name": "python",
   "nbconvert_exporter": "python",
   "pygments_lexer": "ipython3",
   "version": "3.6.12"
  }
 },
 "nbformat": 4,
 "nbformat_minor": 5
}
