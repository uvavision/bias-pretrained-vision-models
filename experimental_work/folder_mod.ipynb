{
 "cells": [
  {
   "cell_type": "code",
   "execution_count": 1,
   "id": "controlled-trading",
   "metadata": {},
   "outputs": [],
   "source": [
    "import os\n",
    "import shutil\n",
    "import argparse"
   ]
  },
  {
   "cell_type": "code",
   "execution_count": 8,
   "id": "abstract-money",
   "metadata": {},
   "outputs": [],
   "source": [
    "def main(root_folder, train_dataset):\n",
    "    contents = os.listdir(root_folder)\n",
    "    for i in contents:\n",
    "        if i != 'orig' and i != '.ipynb_checkpoints':\n",
    "            # boxplots folder\n",
    "            if not os.path.isdir(root_folder+'/'+i+'/boxplots/coco'):\n",
    "                os.mkdir(root_folder+'/'+i+'/boxplots/'+'coco', mode=0o777)\n",
    "\n",
    "            if not os.path.isdir(root_folder+'/'+i+'/boxplots/openimages'):\n",
    "                os.mkdir(root_folder+'/'+i+'/boxplots/'+'openimages', mode=0o777)\n",
    "\n",
    "            if not os.path.isdir(root_folder+'/'+i+'/boxplots/'+train_dataset+'/no_pca'):\n",
    "                shutil.move(root_folder+'/'+i+'/boxplots/no_pca', root_folder+'/'+i+'/boxplots/'+train_dataset)\n",
    "                shutil.move(root_folder+'/'+i+'/boxplots/pca', root_folder+'/'+i+'/boxplots/'+train_dataset)\n",
    "            if not os.path.isdir(root_folder+'/'+i+'/boxplots/coco/'+'no_pca'):\n",
    "                os.mkdir(root_folder+'/'+i+'/boxplots/coco/'+'no_pca', mode=0o777)\n",
    "                os.mkdir(root_folder+'/'+i+'/boxplots/coco/no_pca/'+'cosine', mode=0o777)\n",
    "            if not os.path.isdir(root_folder+'/'+i+'/boxplots/openimages/'+'no_pca'):\n",
    "                os.mkdir(root_folder+'/'+i+'/boxplots/openimages/'+'no_pca', mode=0o777)\n",
    "                os.mkdir(root_folder+'/'+i+'/boxplots/openimages/no_pca/'+'cosine', mode=0o777)\n",
    "\n",
    "            # features folder\n",
    "            if not os.path.isdir(root_folder+'/'+i+'/features'):\n",
    "                os.mkdir(root_folder+'/'+i+'/features', mode=0o777)\n",
    "\n",
    "                os.mkdir(root_folder+'/'+i+'/features'+'/'+'coco', mode=0o777)\n",
    "                os.mkdir(root_folder+'/'+i+'/features'+'/'+'openimages', mode=0o777)\n",
    "\n",
    "                if os.path.isdir(root_folder+'/'+i+'/pretrained_features'):\n",
    "                    shutil.move(root_folder+'/'+i+'/pretrained_features', root_folder+'/'+i+'/features/'+train_dataset)\n",
    "                if os.path.isdir(root_folder+'/'+i+'/finetuned_features'):\n",
    "                    shutil.move(root_folder+'/'+i+'/finetuned_features', root_folder+'/'+i+'/features/'+train_dataset)\n",
    "\n",
    "                if not os.path.isdir(root_folder+'/'+i+'/features'+'/coco/'+'finetuned_features'):\n",
    "                    os.mkdir(root_folder+'/'+i+'/features'+'/coco/'+'finetuned_features', mode=0o777)\n",
    "                    os.mkdir(root_folder+'/'+i+'/features'+'/coco/'+'pretrained_features', mode=0o777)\n",
    "\n",
    "                    os.mkdir(root_folder+'/'+i+'/features'+'/coco/'+'finetuned_features/'+'no_pca', mode=0o777)\n",
    "                    os.mkdir(root_folder+'/'+i+'/features'+'/coco/'+'pretrained_features/'+'no_pca', mode=0o777)\n",
    "\n",
    "                if not os.path.isdir(root_folder+'/'+i+'/features'+'/openimages/'+'finetuned_features'):\n",
    "                    os.mkdir(root_folder+'/'+i+'/features'+'/openimages/'+'finetuned_features', mode=0o777)\n",
    "                    os.mkdir(root_folder+'/'+i+'/features'+'/openimages/'+'pretrained_features', mode=0o777)\n",
    "\n",
    "                    os.mkdir(root_folder+'/'+i+'/features'+'/openimages/'+'finetuned_features/'+'no_pca', mode=0o777)\n",
    "                    os.mkdir(root_folder+'/'+i+'/features'+'/openimages/'+'pretrained_features/'+'no_pca', mode=0o777)\n",
    "\n",
    "            # metric data folder\n",
    "            if not os.path.isdir(root_folder+'/'+i+'/metric_data/coco'):\n",
    "                os.mkdir(root_folder+'/'+i+'/metric_data'+'/'+'coco', mode=0o777)\n",
    "            if not os.path.isdir(root_folder+'/'+i+'/metric_data/openimages'):\n",
    "                os.mkdir(root_folder+'/'+i+'/metric_data'+'/'+'openimages', mode=0o777)\n",
    "            if os.path.isdir(root_folder+'/'+i+'/metric_data/no_pca'):\n",
    "                shutil.move(root_folder+'/'+i+'/metric_data/no_pca', root_folder+'/'+i+'/metric_data/'+train_dataset)\n",
    "            if os.path.isdir(root_folder+'/'+i+'/metric_data/pca'):\n",
    "                shutil.move(root_folder+'/'+i+'/metric_data/pca', root_folder+'/'+i+'/metric_data/'+train_dataset)\n",
    "\n",
    "            if not os.path.isdir(root_folder+'/'+i+'/metric_data/coco/no_pca'):\n",
    "                os.mkdir(root_folder+'/'+i+'/metric_data/coco/no_pca', mode=0o777)\n",
    "                os.mkdir(root_folder+'/'+i+'/metric_data/coco/no_pca'+'/'+'cosine', mode=0o777)\n",
    "\n",
    "            if not os.path.isdir(root_folder+'/'+i+'/metric_data/openimages/no_pca'):\n",
    "                os.mkdir(root_folder+'/'+i+'/metric_data/openimages/no_pca', mode=0o777)\n",
    "                os.mkdir(root_folder+'/'+i+'/metric_data/openimages/no_pca'+'/'+'cosine', mode=0o777)\n",
    "\n",
    "\n"
   ]
  },
  {
   "cell_type": "code",
   "execution_count": 9,
   "id": "respected-shannon",
   "metadata": {},
   "outputs": [],
   "source": [
    "main('experiments/coco/virtex_resnet50', 'coco')"
   ]
  },
  {
   "cell_type": "code",
   "execution_count": 10,
   "id": "unexpected-tribe",
   "metadata": {},
   "outputs": [],
   "source": [
    "main('experiments/coco/clip', 'coco')"
   ]
  },
  {
   "cell_type": "code",
   "execution_count": 11,
   "id": "detailed-competition",
   "metadata": {},
   "outputs": [],
   "source": [
    "main('experiments/coco/moco_resnet50', 'coco')"
   ]
  },
  {
   "cell_type": "code",
   "execution_count": 12,
   "id": "significant-cricket",
   "metadata": {},
   "outputs": [],
   "source": [
    "main('experiments/coco/resnet18', 'coco')"
   ]
  },
  {
   "cell_type": "code",
   "execution_count": 13,
   "id": "collective-supplier",
   "metadata": {},
   "outputs": [],
   "source": [
    "main('experiments/coco/resnet50', 'coco')"
   ]
  },
  {
   "cell_type": "code",
   "execution_count": 14,
   "id": "latter-conservative",
   "metadata": {},
   "outputs": [],
   "source": [
    "main('experiments/coco/simclr_resnet50', 'coco')"
   ]
  },
  {
   "cell_type": "code",
   "execution_count": null,
   "id": "thorough-letters",
   "metadata": {},
   "outputs": [],
   "source": []
  },
  {
   "cell_type": "code",
   "execution_count": 15,
   "id": "appropriate-distinction",
   "metadata": {},
   "outputs": [],
   "source": [
    "main('experiments/openimages/bit_resnet50', 'openimages')"
   ]
  },
  {
   "cell_type": "code",
   "execution_count": 16,
   "id": "published-scoop",
   "metadata": {},
   "outputs": [],
   "source": [
    "main('experiments/openimages/clip', 'openimages')"
   ]
  },
  {
   "cell_type": "code",
   "execution_count": 17,
   "id": "spread-excerpt",
   "metadata": {},
   "outputs": [],
   "source": [
    "main('experiments/openimages/moco_resnet50', 'openimages')"
   ]
  },
  {
   "cell_type": "code",
   "execution_count": 18,
   "id": "unusual-injection",
   "metadata": {},
   "outputs": [],
   "source": [
    "main('experiments/openimages/resnet18', 'openimages')"
   ]
  },
  {
   "cell_type": "code",
   "execution_count": 19,
   "id": "announced-strand",
   "metadata": {},
   "outputs": [],
   "source": [
    "main('experiments/openimages/resnet50', 'openimages')"
   ]
  },
  {
   "cell_type": "code",
   "execution_count": 20,
   "id": "controversial-chart",
   "metadata": {},
   "outputs": [],
   "source": [
    "main('experiments/openimages/simclr_resnet50', 'openimages')"
   ]
  },
  {
   "cell_type": "code",
   "execution_count": null,
   "id": "brown-bankruptcy",
   "metadata": {},
   "outputs": [],
   "source": []
  }
 ],
 "metadata": {
  "kernelspec": {
   "display_name": "Python 3",
   "language": "python",
   "name": "python3"
  },
  "language_info": {
   "codemirror_mode": {
    "name": "ipython",
    "version": 3
   },
   "file_extension": ".py",
   "mimetype": "text/x-python",
   "name": "python",
   "nbconvert_exporter": "python",
   "pygments_lexer": "ipython3",
   "version": "3.6.12"
  }
 },
 "nbformat": 4,
 "nbformat_minor": 5
}
