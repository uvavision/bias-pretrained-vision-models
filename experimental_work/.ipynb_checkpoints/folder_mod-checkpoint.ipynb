{
 "cells": [
  {
   "cell_type": "code",
   "execution_count": 1,
   "id": "floppy-illustration",
   "metadata": {},
   "outputs": [],
   "source": [
    "import os\n",
    "import shutil\n",
    "import argparse"
   ]
  },
  {
   "cell_type": "code",
   "execution_count": 6,
   "id": "failing-universal",
   "metadata": {},
   "outputs": [],
   "source": [
    "def main(root_folder, train_dataset):\n",
    "    contents = os.listdir(root_folder)\n",
    "    for i in contents:\n",
    "        if i != 'orig' and i != '.ipynb_checkpoints':\n",
    "            # boxplots folder\n",
    "            if not os.path.isdir(root_folder+'/'+i+'/boxplots/coco'):\n",
    "                os.mkdir(root_folder+'/'+i+'/boxplots/'+'coco', mode=0o777)\n",
    "\n",
    "            if not os.path.isdir(root_folder+'/'+i+'/boxplots/openimages'):\n",
    "                os.mkdir(root_folder+'/'+i+'/boxplots/'+'openimages', mode=0o777)\n",
    "\n",
    "            if not os.path.isdir(root_folder+'/'+i+'/boxplots/'+train_dataset+'/no_pca'):\n",
    "                shutil.move(root_folder+'/'+i+'/boxplots/no_pca', root_folder+'/'+i+'/boxplots/'+train_dataset)\n",
    "                shutil.move(root_folder+'/'+i+'/boxplots/pca', root_folder+'/'+i+'/boxplots/'+train_dataset)\n",
    "            if not os.path.isdir(root_folder+'/'+i+'/boxplots/coco/'+'no_pca'):\n",
    "                os.mkdir(root_folder+'/'+i+'/boxplots/coco/'+'no_pca', mode=0o777)\n",
    "                os.mkdir(root_folder+'/'+i+'/boxplots/coco/no_pca/'+'cosine', mode=0o777)\n",
    "            if not os.path.isdir(root_folder+'/'+i+'/boxplots/openimages/'+'no_pca'):\n",
    "                os.mkdir(root_folder+'/'+i+'/boxplots/openimages/'+'no_pca', mode=0o777)\n",
    "                os.mkdir(root_folder+'/'+i+'/boxplots/openimages/no_pca/'+'cosine', mode=0o777)\n",
    "\n",
    "            # features folder\n",
    "            if not os.path.isdir(root_folder+'/'+i+'/features'):\n",
    "                os.mkdir(root_folder+'/'+i+'/features', mode=0o777)\n",
    "\n",
    "                os.mkdir(root_folder+'/'+i+'/features'+'/'+'coco', mode=0o777)\n",
    "                os.mkdir(root_folder+'/'+i+'/features'+'/'+'openimages', mode=0o777)\n",
    "\n",
    "                if os.path.isdir(root_folder+'/'+i+'/pretrained_features'):\n",
    "                    shutil.move(root_folder+'/'+i+'/pretrained_features', root_folder+'/'+i+'/features/'+train_dataset)\n",
    "                if os.path.isdir(root_folder+'/'+i+'/finetuned_features'):\n",
    "                    shutil.move(root_folder+'/'+i+'/finetuned_features', root_folder+'/'+i+'/features/'+train_dataset)\n",
    "\n",
    "                if not os.path.isdir(root_folder+'/'+i+'/features'+'/coco/'+'finetuned_features'):\n",
    "                    os.mkdir(root_folder+'/'+i+'/features'+'/coco/'+'finetuned_features', mode=0o777)\n",
    "                    os.mkdir(root_folder+'/'+i+'/features'+'/coco/'+'pretrained_features', mode=0o777)\n",
    "\n",
    "                    os.mkdir(root_folder+'/'+i+'/features'+'/coco/'+'finetuned_features/'+'no_pca', mode=0o777)\n",
    "                    os.mkdir(root_folder+'/'+i+'/features'+'/coco/'+'pretrained_features/'+'no_pca', mode=0o777)\n",
    "\n",
    "                if not os.path.isdir(root_folder+'/'+i+'/features'+'/openimages/'+'finetuned_features'):\n",
    "                    os.mkdir(root_folder+'/'+i+'/features'+'/openimages/'+'finetuned_features', mode=0o777)\n",
    "                    os.mkdir(root_folder+'/'+i+'/features'+'/openimages/'+'pretrained_features', mode=0o777)\n",
    "\n",
    "                    os.mkdir(root_folder+'/'+i+'/features'+'/openimages/'+'finetuned_features/'+'no_pca', mode=0o777)\n",
    "                    os.mkdir(root_folder+'/'+i+'/features'+'/openimages/'+'pretrained_features/'+'no_pca', mode=0o777)\n",
    "\n",
    "            # metric data folder\n",
    "            if not os.path.isdir(root_folder+'/'+i+'/metric_data/coco'):\n",
    "                os.mkdir(root_folder+'/'+i+'/metric_data'+'/'+'coco', mode=0o777)\n",
    "            if not os.path.isdir(root_folder+'/'+i+'/metric_data/openimages'):\n",
    "                os.mkdir(root_folder+'/'+i+'/metric_data'+'/'+'openimages', mode=0o777)\n",
    "            if os.path.isdir(root_folder+'/'+i+'/metric_data/no_pca'):\n",
    "                shutil.move(root_folder+'/'+i+'/metric_data/no_pca', root_folder+'/'+i+'/metric_data/'+train_dataset)\n",
    "            if os.path.isdir(root_folder+'/'+i+'/metric_data/pca'):\n",
    "                shutil.move(root_folder+'/'+i+'/metric_data/pca', root_folder+'/'+i+'/metric_data/'+train_dataset)\n",
    "\n",
    "            if not os.path.isdir(root_folder+'/'+i+'/metric_data/coco/no_pca'):\n",
    "                os.mkdir(root_folder+'/'+i+'/metric_data/coco/no_pca', mode=0o777)\n",
    "                os.mkdir(root_folder+'/'+i+'/metric_data/coco/no_pca'+'/'+'cosine', mode=0o777)\n",
    "\n",
    "            if not os.path.isdir(root_folder+'/'+i+'/metric_data/openimages/no_pca'):\n",
    "                os.mkdir(root_folder+'/'+i+'/metric_data/openimages/no_pca', mode=0o777)\n",
    "                os.mkdir(root_folder+'/'+i+'/metric_data/openimages/no_pca'+'/'+'cosine', mode=0o777)\n",
    "\n",
    "\n"
   ]
  },
  {
   "cell_type": "code",
   "execution_count": 7,
   "id": "growing-recommendation",
   "metadata": {},
   "outputs": [
    {
     "ename": "FileNotFoundError",
     "evalue": "[Errno 2] No such file or directory: 'experiments/coco/virtex_resnet50/.ipynb_checkpoints/boxplots/coco'",
     "output_type": "error",
     "traceback": [
      "\u001b[0;31m---------------------------------------------------------------------------\u001b[0m",
      "\u001b[0;31mFileNotFoundError\u001b[0m                         Traceback (most recent call last)",
      "\u001b[0;32m<ipython-input-7-cec39bba9c82>\u001b[0m in \u001b[0;36m<module>\u001b[0;34m()\u001b[0m\n\u001b[0;32m----> 1\u001b[0;31m \u001b[0mmain\u001b[0m\u001b[0;34m(\u001b[0m\u001b[0;34m'experiments/coco/virtex_resnet50'\u001b[0m\u001b[0;34m,\u001b[0m \u001b[0;34m'coco'\u001b[0m\u001b[0;34m)\u001b[0m\u001b[0;34m\u001b[0m\u001b[0;34m\u001b[0m\u001b[0m\n\u001b[0m",
      "\u001b[0;32m<ipython-input-6-e053f81fee34>\u001b[0m in \u001b[0;36mmain\u001b[0;34m(root_folder, train_dataset)\u001b[0m\n\u001b[1;32m      5\u001b[0m             \u001b[0;31m# boxplots folder\u001b[0m\u001b[0;34m\u001b[0m\u001b[0;34m\u001b[0m\u001b[0;34m\u001b[0m\u001b[0m\n\u001b[1;32m      6\u001b[0m             \u001b[0;32mif\u001b[0m \u001b[0;32mnot\u001b[0m \u001b[0mos\u001b[0m\u001b[0;34m.\u001b[0m\u001b[0mpath\u001b[0m\u001b[0;34m.\u001b[0m\u001b[0misdir\u001b[0m\u001b[0;34m(\u001b[0m\u001b[0mroot_folder\u001b[0m\u001b[0;34m+\u001b[0m\u001b[0;34m'/'\u001b[0m\u001b[0;34m+\u001b[0m\u001b[0mi\u001b[0m\u001b[0;34m+\u001b[0m\u001b[0;34m'/boxplots/coco'\u001b[0m\u001b[0;34m)\u001b[0m\u001b[0;34m:\u001b[0m\u001b[0;34m\u001b[0m\u001b[0;34m\u001b[0m\u001b[0m\n\u001b[0;32m----> 7\u001b[0;31m                 \u001b[0mos\u001b[0m\u001b[0;34m.\u001b[0m\u001b[0mmkdir\u001b[0m\u001b[0;34m(\u001b[0m\u001b[0mroot_folder\u001b[0m\u001b[0;34m+\u001b[0m\u001b[0;34m'/'\u001b[0m\u001b[0;34m+\u001b[0m\u001b[0mi\u001b[0m\u001b[0;34m+\u001b[0m\u001b[0;34m'/boxplots/'\u001b[0m\u001b[0;34m+\u001b[0m\u001b[0;34m'coco'\u001b[0m\u001b[0;34m,\u001b[0m \u001b[0mmode\u001b[0m\u001b[0;34m=\u001b[0m\u001b[0;36m0o777\u001b[0m\u001b[0;34m)\u001b[0m\u001b[0;34m\u001b[0m\u001b[0;34m\u001b[0m\u001b[0m\n\u001b[0m\u001b[1;32m      8\u001b[0m \u001b[0;34m\u001b[0m\u001b[0m\n\u001b[1;32m      9\u001b[0m             \u001b[0;32mif\u001b[0m \u001b[0;32mnot\u001b[0m \u001b[0mos\u001b[0m\u001b[0;34m.\u001b[0m\u001b[0mpath\u001b[0m\u001b[0;34m.\u001b[0m\u001b[0misdir\u001b[0m\u001b[0;34m(\u001b[0m\u001b[0mroot_folder\u001b[0m\u001b[0;34m+\u001b[0m\u001b[0;34m'/'\u001b[0m\u001b[0;34m+\u001b[0m\u001b[0mi\u001b[0m\u001b[0;34m+\u001b[0m\u001b[0;34m'/boxplots/openimages'\u001b[0m\u001b[0;34m)\u001b[0m\u001b[0;34m:\u001b[0m\u001b[0;34m\u001b[0m\u001b[0;34m\u001b[0m\u001b[0m\n",
      "\u001b[0;31mFileNotFoundError\u001b[0m: [Errno 2] No such file or directory: 'experiments/coco/virtex_resnet50/.ipynb_checkpoints/boxplots/coco'"
     ]
    }
   ],
   "source": [
    "main('experiments/coco/virtex_resnet50', 'coco')"
   ]
  },
  {
   "cell_type": "code",
   "execution_count": null,
   "id": "broadband-principle",
   "metadata": {},
   "outputs": [],
   "source": []
  }
 ],
 "metadata": {
  "kernelspec": {
   "display_name": "Python 3",
   "language": "python",
   "name": "python3"
  },
  "language_info": {
   "codemirror_mode": {
    "name": "ipython",
    "version": 3
   },
   "file_extension": ".py",
   "mimetype": "text/x-python",
   "name": "python",
   "nbconvert_exporter": "python",
   "pygments_lexer": "ipython3",
   "version": "3.6.12"
  }
 },
 "nbformat": 4,
 "nbformat_minor": 5
}
