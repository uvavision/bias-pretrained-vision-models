{
 "cells": [
  {
   "cell_type": "code",
   "execution_count": null,
   "id": "thermal-lucas",
   "metadata": {},
   "outputs": [],
   "source": [
    "!pip install tabulate\n",
    "from tabulate import tabulate"
   ]
  },
  {
   "cell_type": "code",
   "execution_count": 6,
   "id": "greek-simulation",
   "metadata": {},
   "outputs": [
    {
     "name": "stdout",
     "output_type": "stream",
     "text": [
      "clip_bit_resnet50_cosine.npy\t       resnet50_moco_resnet50_cosine.npy\r\n",
      "clip_moco_resnet50_cosine.npy\t       resnet50_resnet18_cosine.npy\r\n",
      "clip_resnet18_cosine.npy\t       simclr_resnet50_bit_resnet50_cosine.npy\r\n",
      "clip_resnet50_cosine.npy\t       simclr_resnet50_clip_cosine.npy\r\n",
      "moco_resnet50_bit_resnet50_cosine.npy  simclr_resnet50_moco_resnet50_cosine.npy\r\n",
      "resnet18_bit_resnet50_cosine.npy       simclr_resnet50_resnet18_cosine.npy\r\n",
      "resnet18_moco_resnet50_cosine.npy      simclr_resnet50_resnet50_cosine.npy\r\n",
      "resnet50_bit_resnet50_cosine.npy\r\n"
     ]
    }
   ],
   "source": [
    "!ls ../experiments/dataset_sensitivity/coco"
   ]
  },
  {
   "cell_type": "code",
   "execution_count": 7,
   "id": "premier-waste",
   "metadata": {},
   "outputs": [
    {
     "name": "stdout",
     "output_type": "stream",
     "text": [
      "['clip_resnet50_cosine.npy', 'clip_bit_resnet50_cosine.npy', 'resnet18_moco_resnet50_cosine.npy', 'moco_resnet50_bit_resnet50_cosine.npy', 'simclr_resnet50_moco_resnet50_cosine.npy', 'simclr_resnet50_clip_cosine.npy', 'simclr_resnet50_resnet18_cosine.npy', 'simclr_resnet50_resnet50_cosine.npy', 'resnet50_bit_resnet50_cosine.npy', 'simclr_resnet50_bit_resnet50_cosine.npy', 'clip_resnet18_cosine.npy', 'clip_moco_resnet50_cosine.npy', 'resnet18_bit_resnet50_cosine.npy', 'resnet50_moco_resnet50_cosine.npy', 'resnet50_resnet18_cosine.npy']\n"
     ]
    }
   ],
   "source": [
    "import os\n",
    "import numpy as np\n",
    "\n",
    "files = os.listdir(\"../experiments/dataset_sensitivity/coco\")\n",
    "print(files)"
   ]
  },
  {
   "cell_type": "code",
   "execution_count": 18,
   "id": "studied-phase",
   "metadata": {},
   "outputs": [],
   "source": [
    "model_one = []\n",
    "model_two = []\n",
    "average = []\n",
    "model_one_min = []\n",
    "model_one_max = []\n",
    "model_two_min = []\n",
    "model_two_max = []\n",
    "\n",
    "for i in files:\n",
    "    temp = np.load(\"../experiments/dataset_sensitivity/coco/\" +i, allow_pickle=True)\n",
    "    temp = temp.item()\n",
    "    keys = list(temp.keys())\n",
    "    average.append(temp[keys[0]])\n",
    "    model_one.append(keys[1])\n",
    "    model_two.append(keys[2])\n",
    "    \n",
    "    model_one_min.append(temp[keys[1]][0])\n",
    "    model_one_max.append(temp[keys[1]][1])\n",
    "    \n",
    "    model_two_min.append(temp[keys[2]][0])\n",
    "    model_two_max.append(temp[keys[2]][1]) \n",
    "    "
   ]
  },
  {
   "cell_type": "code",
   "execution_count": 19,
   "id": "sunset-forth",
   "metadata": {},
   "outputs": [],
   "source": [
    "info = {'Model A': model_one, 'Model B': model_two, \n",
    "       'Average Difference': average}"
   ]
  },
  {
   "cell_type": "code",
   "execution_count": 20,
   "id": "soviet-program",
   "metadata": {},
   "outputs": [
    {
     "name": "stdout",
     "output_type": "stream",
     "text": [
      "╒═════════════════╤═══════════════╤══════════════════════╕\n",
      "│ Model A         │ Model B       │   Average Difference │\n",
      "╞═════════════════╪═══════════════╪══════════════════════╡\n",
      "│ clip            │ resnet50      │            -0.543285 │\n",
      "├─────────────────┼───────────────┼──────────────────────┤\n",
      "│ clip            │ bit_resnet50  │             4.25438  │\n",
      "├─────────────────┼───────────────┼──────────────────────┤\n",
      "│ resnet18        │ moco_resnet50 │             2.03395  │\n",
      "├─────────────────┼───────────────┼──────────────────────┤\n",
      "│ moco_resnet50   │ bit_resnet50  │            -0.476282 │\n",
      "├─────────────────┼───────────────┼──────────────────────┤\n",
      "│ simclr_resnet50 │ moco_resnet50 │            -6.15035  │\n",
      "├─────────────────┼───────────────┼──────────────────────┤\n",
      "│ simclr_resnet50 │ clip          │             1.69822  │\n",
      "├─────────────────┼───────────────┼──────────────────────┤\n",
      "│ simclr_resnet50 │ resnet18      │             6.93555  │\n",
      "├─────────────────┼───────────────┼──────────────────────┤\n",
      "│ simclr_resnet50 │ resnet50      │            -0.676543 │\n",
      "├─────────────────┼───────────────┼──────────────────────┤\n",
      "│ resnet50        │ bit_resnet50  │            -1.57797  │\n",
      "├─────────────────┼───────────────┼──────────────────────┤\n",
      "│ simclr_resnet50 │ bit_resnet50  │             6.9212   │\n",
      "├─────────────────┼───────────────┼──────────────────────┤\n",
      "│ clip            │ resnet18      │             5.01293  │\n",
      "├─────────────────┼───────────────┼──────────────────────┤\n",
      "│ clip            │ moco_resnet50 │            -4.03218  │\n",
      "├─────────────────┼───────────────┼──────────────────────┤\n",
      "│ resnet18        │ bit_resnet50  │             1.07053  │\n",
      "├─────────────────┼───────────────┼──────────────────────┤\n",
      "│ resnet50        │ moco_resnet50 │             2.31796  │\n",
      "├─────────────────┼───────────────┼──────────────────────┤\n",
      "│ resnet50        │ resnet18      │            -1.6916   │\n",
      "╘═════════════════╧═══════════════╧══════════════════════╛\n"
     ]
    }
   ],
   "source": [
    "print(tabulate(info, headers='keys', tablefmt='fancy_grid'))\n"
   ]
  },
  {
   "cell_type": "code",
   "execution_count": 21,
   "id": "champion-hungary",
   "metadata": {},
   "outputs": [],
   "source": [
    "info = {'Model A': model_one, 'Model B': model_two, \n",
    "       'Model A Min Diff': model_one_min,\n",
    "       'Model A Max Diff': model_one_max,\n",
    "        'Model B Min Diff': model_two_min,\n",
    "       'Model B Max Diff': model_two_max}"
   ]
  },
  {
   "cell_type": "code",
   "execution_count": 22,
   "id": "direct-horizontal",
   "metadata": {},
   "outputs": [
    {
     "name": "stdout",
     "output_type": "stream",
     "text": [
      "╒═════════════════╤═══════════════╤════════════════════╤════════════════════╤════════════════════╤════════════════════╕\n",
      "│ Model A         │ Model B       │ Model A Min Diff   │ Model A Max Diff   │ Model B Min Diff   │ Model B Max Diff   │\n",
      "╞═════════════════╪═══════════════╪════════════════════╪════════════════════╪════════════════════╪════════════════════╡\n",
      "│ clip            │ resnet50      │ surfb              │ random vs man      │ refrig vs man      │ stopsign           │\n",
      "├─────────────────┼───────────────┼────────────────────┼────────────────────┼────────────────────┼────────────────────┤\n",
      "│ clip            │ bit_resnet50  │ surfb              │ random vs man      │ random             │ stopsign           │\n",
      "├─────────────────┼───────────────┼────────────────────┼────────────────────┼────────────────────┼────────────────────┤\n",
      "│ resnet18        │ moco_resnet50 │ stopsign vs woman  │ stopsign           │ car vs woman       │ refrig             │\n",
      "├─────────────────┼───────────────┼────────────────────┼────────────────────┼────────────────────┼────────────────────┤\n",
      "│ moco_resnet50   │ bit_resnet50  │ car vs woman       │ refrig             │ random             │ stopsign           │\n",
      "├─────────────────┼───────────────┼────────────────────┼────────────────────┼────────────────────┼────────────────────┤\n",
      "│ simclr_resnet50 │ moco_resnet50 │ refrig             │ surfb              │ car vs woman       │ refrig             │\n",
      "├─────────────────┼───────────────┼────────────────────┼────────────────────┼────────────────────┼────────────────────┤\n",
      "│ simclr_resnet50 │ clip          │ refrig             │ surfb              │ surfb              │ random vs man      │\n",
      "├─────────────────┼───────────────┼────────────────────┼────────────────────┼────────────────────┼────────────────────┤\n",
      "│ simclr_resnet50 │ resnet18      │ refrig             │ surfb              │ stopsign vs woman  │ stopsign           │\n",
      "├─────────────────┼───────────────┼────────────────────┼────────────────────┼────────────────────┼────────────────────┤\n",
      "│ simclr_resnet50 │ resnet50      │ refrig             │ surfb              │ refrig vs man      │ stopsign           │\n",
      "├─────────────────┼───────────────┼────────────────────┼────────────────────┼────────────────────┼────────────────────┤\n",
      "│ resnet50        │ bit_resnet50  │ refrig vs man      │ stopsign           │ random             │ stopsign           │\n",
      "├─────────────────┼───────────────┼────────────────────┼────────────────────┼────────────────────┼────────────────────┤\n",
      "│ simclr_resnet50 │ bit_resnet50  │ refrig             │ surfb              │ random             │ stopsign           │\n",
      "├─────────────────┼───────────────┼────────────────────┼────────────────────┼────────────────────┼────────────────────┤\n",
      "│ clip            │ resnet18      │ surfb              │ random vs man      │ stopsign vs woman  │ stopsign           │\n",
      "├─────────────────┼───────────────┼────────────────────┼────────────────────┼────────────────────┼────────────────────┤\n",
      "│ clip            │ moco_resnet50 │ surfb              │ random vs man      │ car vs woman       │ refrig             │\n",
      "├─────────────────┼───────────────┼────────────────────┼────────────────────┼────────────────────┼────────────────────┤\n",
      "│ resnet18        │ bit_resnet50  │ stopsign vs woman  │ stopsign           │ random             │ stopsign           │\n",
      "├─────────────────┼───────────────┼────────────────────┼────────────────────┼────────────────────┼────────────────────┤\n",
      "│ resnet50        │ moco_resnet50 │ refrig vs man      │ stopsign           │ car vs woman       │ refrig             │\n",
      "├─────────────────┼───────────────┼────────────────────┼────────────────────┼────────────────────┼────────────────────┤\n",
      "│ resnet50        │ resnet18      │ refrig vs man      │ stopsign           │ stopsign vs woman  │ stopsign           │\n",
      "╘═════════════════╧═══════════════╧════════════════════╧════════════════════╧════════════════════╧════════════════════╛\n"
     ]
    }
   ],
   "source": [
    "print(tabulate(info, headers='keys', tablefmt='fancy_grid'))\n"
   ]
  },
  {
   "cell_type": "code",
   "execution_count": null,
   "id": "agricultural-zealand",
   "metadata": {},
   "outputs": [],
   "source": []
  }
 ],
 "metadata": {
  "kernelspec": {
   "display_name": "Python 3",
   "language": "python",
   "name": "python3"
  },
  "language_info": {
   "codemirror_mode": {
    "name": "ipython",
    "version": 3
   },
   "file_extension": ".py",
   "mimetype": "text/x-python",
   "name": "python",
   "nbconvert_exporter": "python",
   "pygments_lexer": "ipython3",
   "version": "3.6.12"
  }
 },
 "nbformat": 4,
 "nbformat_minor": 5
}
