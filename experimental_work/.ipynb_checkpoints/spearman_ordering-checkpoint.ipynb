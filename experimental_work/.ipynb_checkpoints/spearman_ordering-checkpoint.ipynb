{
 "cells": [
  {
   "cell_type": "code",
   "execution_count": 8,
   "id": "confidential-universal",
   "metadata": {},
   "outputs": [],
   "source": [
    "import os\n",
    "import numpy as np"
   ]
  },
  {
   "cell_type": "code",
   "execution_count": 5,
   "id": "medical-acquisition",
   "metadata": {},
   "outputs": [
    {
     "name": "stdout",
     "output_type": "stream",
     "text": [
      "comps_similarities_ft.npy  self_similarities_pt.npy  spearman_object.npy\r\n",
      "comps_similarities_pt.npy  spearman_comps.npy\t     spearman_pairs.npy\r\n",
      "self_similarities_ft.npy   spearman_indiv.npy\r\n"
     ]
    }
   ],
   "source": [
    "!ls ../experiments/coco/moco_resnet50/2022-01-20\\ 13\\:33\\:07/metric_data/"
   ]
  },
  {
   "cell_type": "code",
   "execution_count": 13,
   "id": "traditional-organizer",
   "metadata": {},
   "outputs": [],
   "source": [
    "dataset = 'coco'\n",
    "\n",
    "models = os.listdir('../experiments/'+dataset)\n",
    "\n",
    "spearman_comp = []\n",
    "spearman_indiv = []\n",
    "spearman_object = []\n",
    "spearman_pairs = []\n",
    "\n",
    "for i in models:\n",
    "    if i == 'moco_resnet50':\n",
    "        temp = os.listdir('../experiments/'+dataset+'/'+i)\n",
    "        if temp[0] != 'orig' and temp[0] != '.ipynb_checkpoints':\n",
    "            trial = temp[0]\n",
    "        else:\n",
    "            trial = temp[2]\n",
    "        spearman_comp.append(np.load('../experiments/'+dataset+'/'+i+'/'+trial+'/metric_data/spearman_comps.npy', allow_pickle=True).item())\n",
    "        spearman_indiv.append(np.load('../experiments/'+dataset+'/'+i+'/'+trial+'/metric_data/spearman_indiv.npy', allow_pickle=True).item())\n",
    "        spearman_object.append(np.load('../experiments/'+dataset+'/'+i+'/'+trial+'/metric_data/spearman_object.npy', allow_pickle=True).item())\n",
    "        spearman_pairs.append(np.load('../experiments/'+dataset+'/'+i+'/'+trial+'/metric_data/spearman_pairs.npy', allow_pickle=True).item())\n",
    "\n",
    "    \n",
    "    "
   ]
  },
  {
   "cell_type": "code",
   "execution_count": 23,
   "id": "ranging-teens",
   "metadata": {},
   "outputs": [],
   "source": [
    "all_models_comp = dict()\n",
    "all_models_indiv = dict()\n",
    "all_models_object = dict()\n",
    "all_models_pairs = dict()\n",
    "\n",
    "for ind, i in enumerate(spearman_comp):\n",
    "    for j in i:\n",
    "        all_models_comp[j] = spearman_comp[ind][j][0]\n",
    "\n",
    "for ind, i in enumerate(spearman_indiv):\n",
    "    for j in i:\n",
    "        all_models_indiv[j] = spearman_indiv[ind][j][0]\n",
    "    \n",
    "for ind, i in enumerate(spearman_object):\n",
    "    for j in i:\n",
    "        all_models_object[j] = spearman_object[ind][j][0]\n",
    "\n",
    "for ind, i in enumerate(spearman_pairs):\n",
    "    for j in i:\n",
    "        all_models_pairs[j] = spearman_pairs[ind][j][0]\n",
    "    \n",
    "    "
   ]
  },
  {
   "cell_type": "code",
   "execution_count": 25,
   "id": "outstanding-converter",
   "metadata": {},
   "outputs": [],
   "source": [
    "temp = {k: v for k, v in sorted(all_models_comp.items(), key=lambda item: item[1])}"
   ]
  },
  {
   "cell_type": "code",
   "execution_count": null,
   "id": "persistent-wrapping",
   "metadata": {},
   "outputs": [],
   "source": []
  }
 ],
 "metadata": {
  "kernelspec": {
   "display_name": "Python 3",
   "language": "python",
   "name": "python3"
  },
  "language_info": {
   "codemirror_mode": {
    "name": "ipython",
    "version": 3
   },
   "file_extension": ".py",
   "mimetype": "text/x-python",
   "name": "python",
   "nbconvert_exporter": "python",
   "pygments_lexer": "ipython3",
   "version": "3.6.12"
  }
 },
 "nbformat": 4,
 "nbformat_minor": 5
}
